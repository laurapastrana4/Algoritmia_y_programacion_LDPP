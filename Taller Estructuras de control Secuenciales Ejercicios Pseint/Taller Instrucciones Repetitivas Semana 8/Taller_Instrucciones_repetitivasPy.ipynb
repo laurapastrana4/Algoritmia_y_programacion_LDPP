{
  "cells": [
    {
      "cell_type": "markdown",
      "metadata": {
        "id": "QZ6XziVD76Jw"
      },
      "source": [
        "<h1 align=\"center\">Taller - Instrucciones repetitivas en Python</h1>\n",
        "\n",
        "Desarrolle la solucion a los siguientes problemas en Python, usando funciones y el programa correspondiente\n",
        "\n",
        "---"
      ]
    },
    {
      "cell_type": "markdown",
      "metadata": {
        "id": "uJJp2xk076J1"
      },
      "source": [
        "## Ejercicio 01\n",
        "\n",
        "Una librería ofrece dos tipos de descuentos ante la compra de un libro. Si el libro tiene un precio inferior a cien mil pesos, el descuento es del 12% del precio; pero en cualquier otro caso, el descuento asciende a un 18%.\n",
        "\n",
        "* Escriba una función que halle el precio neto de un libro (precio menos descuento) de un libro, dado el precio del libro.\n",
        "* Ahora, escriba un programa que permita leer el precio de varios libros (finalizar cuando el precio es cero o negativo) y mostrar para cada libro, el precio neto (usando la función desarrollada anteriormente)"
      ]
    },
    {
      "cell_type": "code",
      "execution_count": 17,
      "metadata": {
        "id": "58mamZV176J2",
        "colab": {
          "base_uri": "https://localhost:8080/"
        },
        "outputId": "8acf15c0-b1af-488f-8a55-d1a99c4d2fb5"
      },
      "outputs": [
        {
          "name": "stdout",
          "output_type": "stream",
          "text": [
            "Ingrese el precio del libro: 105000\n",
            "El precio neto es de:  86100.0\n",
            "Ingrese el precio del libro: 93000\n",
            "El precio neto es de:  81840.0\n",
            "Ingrese el precio del libro: 0\n"
          ]
        }
      ],
      "source": [
        "# Definición de la función\n",
        "def Hallar_precio_neto(precio_libro: float)-> float:\n",
        "  if (precio_libro < 100_000):\n",
        "    precio_neto = precio_libro-(precio_libro*0.12)\n",
        "  else:\n",
        "    precio_neto=precio_libro-(precio_libro*0.18)\n",
        "  return precio_neto\n",
        "\n",
        "\n",
        "# Programa principal\n",
        "precio_libro=float(input(\"Ingrese el precio del libro: \"))\n",
        "while precio_libro>0:\n",
        "  precio_neto = Hallar_precio_neto(precio_libro)\n",
        "  print(\"El precio neto es de: \",precio_neto)\n",
        "  precio_libro=float(input(\"Ingrese el precio del libro: \"))\n"
      ]
    },
    {
      "cell_type": "markdown",
      "metadata": {
        "id": "jF4Qm9FE76J3"
      },
      "source": [
        "---"
      ]
    },
    {
      "cell_type": "markdown",
      "metadata": {
        "id": "weyR_q0d76J4"
      },
      "source": [
        "## Ejercicio 02\n",
        "\n",
        "Un vendedor recibe una comisión por el volumen de ventas que realice. Las reglas para asignarle la comisión al vendedor son las siguientes:\n",
        "\n",
        "Ventas | Comisión\n",
        "---|---\n",
        "Inferior a 50 mil pesos | 7% de las ventas\n",
        "Entre 50 mil y 100 mil pesos | 9% de las ventas más 5 mil pesos\n",
        "Entre 100 mil y 200 mil pesos | 11% de las ventas más 10 mil pesos\n",
        "Entre 200 mil y 500 mil pesos | 13% de las ventas más 20 mil pesos\n",
        "Más de 500 mil pesos | 15% de las ventas más 40 mil pesos\n",
        "\n",
        "* Escriba una función que recibe el valor de las ventas de un vendedor y que retorne la comisión\n",
        "* Escriba un programa que lea el valor de ventas de varios vendedores de la empresa (finalizar cuando las ventas sean negativas), y usando la función anterior, calcule la comisión y la imprima por pantalla."
      ]
    },
    {
      "cell_type": "code",
      "execution_count": 19,
      "metadata": {
        "id": "kMitVJVW76J4",
        "colab": {
          "base_uri": "https://localhost:8080/"
        },
        "outputId": "6ae73930-b873-4e4a-8dbd-05bfe64400da"
      },
      "outputs": [
        {
          "name": "stdout",
          "output_type": "stream",
          "text": [
            "ingrese valor de la venta: 0\n"
          ]
        }
      ],
      "source": [
        "# Definición de la función\n",
        "def valor_ventas(ventas:float)-> float:\n",
        "  if (ventas<50_000):\n",
        "    ventas_comision = (ventas*0.07)\n",
        "  elif (ventas>=50_000 and ventas<100_000):\n",
        "    ventas_comision = ((ventas*0.09)+5_000)\n",
        "  elif (ventas>=100_000 and ventas<200_000):\n",
        "    ventas_comision = ((ventas*0.11)+10_000)\n",
        "  elif (ventas>=200_000 and ventas<500_000):\n",
        "    ventas_comision = ((ventas*0.13)+20_000)\n",
        "  elif (ventas>=500_000):\n",
        "    ventas_comision = ((ventas*0.15)+40_000)\n",
        "  return ventas_comision\n",
        "\n",
        "# Programa principal\n",
        "ventas = float(input(\"ingrese valor de la venta: \"))\n",
        "while ventas>0:\n",
        "  ventas_comision = valor_ventas(ventas)\n",
        "  print(\"su comision es: \",ventas_comision)\n",
        "  ventas = float(input(\"ingrese valor de la venta: \"))\n",
        "\n",
        "\n"
      ]
    },
    {
      "cell_type": "markdown",
      "metadata": {
        "id": "YWyFJrR876J4"
      },
      "source": [
        "---\n"
      ]
    },
    {
      "cell_type": "markdown",
      "metadata": {
        "id": "2IHUrLVh76J5"
      },
      "source": [
        "## Ejercicio 03\n",
        "\n",
        "Una empresa ofrece a sus empleados un salario mensual fijo, y un porcertaje de las ventas como una comisión adicional a ese salario mensual. Esta comisión se calcula de la siguiente manera: si las ventas de un empleado excede los 50 mil pesoso, la comisión será de un 12% de las ventas que están por encima de los 50 mil pesos, en otro caso no habrá comisión.\n",
        "\n",
        "* Primero, construya una función en la que dado las ventas que hizo el empleado, determine cuánto es la comisión\n",
        "* Ahora hay que hacer un programa que calcule y muestre los salarios y comisiones de todos los empleados de la empresa. Para cada empleado hay que preguntarle al usuario, el salario mensual y las ventas realizadas, y mostrar la comisión por las ventas (usando la función anterior) y el salario neto (salario más comisión). Como no sabemos cuántos empleados hay, después de mostrar esta información, debemos preguntarle al usuario si desea seguir o no."
      ]
    },
    {
      "cell_type": "code",
      "execution_count": 21,
      "metadata": {
        "id": "aTuMvKmw76J5",
        "colab": {
          "base_uri": "https://localhost:8080/"
        },
        "outputId": "58ad2836-b1f3-4182-9bb5-2bba831b359b"
      },
      "outputs": [
        {
          "name": "stdout",
          "output_type": "stream",
          "text": [
            "ingrese valor de su salario mensual y valor de ventas realizadas separados por coma: 1000,60000\n",
            "Su comision por ventas es de:  (7200.0, 8200.0)\n",
            "Su salario neto es de:  (7200.0, 8200.0)\n",
            "¿Desea seguir con otro empleado? (si/no): no\n"
          ]
        }
      ],
      "source": [
        "\n",
        "# Definición de la función\n",
        "def calcular_comision(salario_fijo:float,ventas:float)->(float,float):\n",
        "  if (ventas>=50_000):\n",
        "    comision=ventas*0.12\n",
        "    salario_neto=salario_fijo+comision\n",
        "  else:\n",
        "    comision=0\n",
        "    salario_neto=salario_fijo+comision\n",
        "  return comision, salario_neto\n",
        "\n",
        "# Programa principal\n",
        "\n",
        "while True:\n",
        "  salario_fijo, ventas=map(float,input(\"ingrese valor de su salario mensual y valor de ventas realizadas separados por coma: \").split(\",\"))\n",
        "  salario_neto = calcular_comision(salario_fijo,ventas)\n",
        "  comision=calcular_comision(salario_fijo,ventas)\n",
        "  print (\"Su comision por ventas es de: \",comision)\n",
        "  print (\"Su salario neto es de: \",salario_neto)\n",
        "  continuar=input(\"¿Desea seguir con otro empleado? (si/no): \")\n",
        "  if continuar==\"no\":\n",
        "\n",
        "    break\n"
      ]
    },
    {
      "cell_type": "markdown",
      "metadata": {
        "id": "6M93ZEZh76J5"
      },
      "source": [
        "---"
      ]
    },
    {
      "cell_type": "markdown",
      "metadata": {
        "id": "ge6TBY0P76J6"
      },
      "source": [
        "## Ejercicio 04\n",
        "\n",
        "En una empresa se le paga a los trabajadores al final de cada semana de acuerdo a las reglas dadas a continuación:\n",
        "\n",
        "* Si trabajas 35 horas o menos, se le paga un valor de 15 mil pesos la hora;\n",
        "* Si trabaja más de 35 horas pero menos de 60, el valor de la hora es de 15 mil por las primeras 35 horas y de 18 mil por cada hora trabajada por encima de las 35\n",
        "* Si trabaja más de 60 horas, las primeras 35 se pagan a 15 mil, las siguiente 25 horas a 18 mil cada una y las horas horas trabajadas por encima de las 60 horas, se le paga a 25 mil pesos cada una.\n",
        "\n",
        "Vamos a buscar imprimir el salario semanal de cada uno de los empleados de la empresa. Para ello:\n",
        "\n",
        "* Escriba una función que reciba el número de horas trabajadas por un empleado y retorne el salario\n",
        "* Un programa que le pregunte al usuario el número de empleados que trabajan en la empresa, y para cada uno de esos, pregunte el número de horas trabajadas en la semana, y usando la función anterior, imprima el salario mensual de ese empleado."
      ]
    },
    {
      "cell_type": "code",
      "execution_count": 23,
      "metadata": {
        "id": "o8NultX076J6",
        "colab": {
          "base_uri": "https://localhost:8080/"
        },
        "outputId": "f218492e-1be5-46c7-f6e1-4190a309306d"
      },
      "outputs": [
        {
          "name": "stdout",
          "output_type": "stream",
          "text": [
            "ingrese las horas trabajadas: 48\n",
            "Su salario es de:  759000.0\n",
            "ingrese las horas trabajadas: 65\n",
            "Su salario es de:  1100000.0\n",
            "ingrese las horas trabajadas: 0\n"
          ]
        }
      ],
      "source": [
        "# Definición de la función\n",
        "def calcular_salario (horas:float)->float:\n",
        "  if (horas>0 and horas<35):\n",
        "    valor_hora = horas*15000\n",
        "  elif (horas>=35 and horas<60):\n",
        "    valor_hora = (35*15000)+((horas%35)*18000)\n",
        "  elif (horas>=60):\n",
        "    valor_hora = (35*15000)+(25*18000)+((horas%60)*25000)\n",
        "  return valor_hora\n",
        "# Programa principal\n",
        "horas = float(input(\"ingrese las horas trabajadas: \"))\n",
        "while horas>0:\n",
        "  valor_hora = calcular_salario(horas)\n",
        "  print(\"Su salario es de: \",valor_hora)\n",
        "  horas = float(input(\"ingrese las horas trabajadas: \"))"
      ]
    }
  ],
  "metadata": {
    "colab": {
      "provenance": []
    },
    "kernelspec": {
      "display_name": "Python 3",
      "language": "python",
      "name": "python3"
    },
    "language_info": {
      "codemirror_mode": {
        "name": "ipython",
        "version": 3
      },
      "file_extension": ".py",
      "mimetype": "text/x-python",
      "name": "python",
      "nbconvert_exporter": "python",
      "pygments_lexer": "ipython3",
      "version": "3.7.7"
    }
  },
  "nbformat": 4,
  "nbformat_minor": 0
}